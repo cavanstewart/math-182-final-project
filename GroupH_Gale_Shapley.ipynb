{
 "cells": [
  {
   "cell_type": "markdown",
   "metadata": {},
   "source": [
    "# Math 182 Algorithms Final Project\n",
    "### Group H: Lathem Wojno, Ashley Chang, and Cavan Stewert "
   ]
  },
  {
   "cell_type": "markdown",
   "metadata": {},
   "source": [
    "# Gale-Shapley Algorithm and its Applications/Variations\n",
    "### Proposed Application: Uber Driver + Rider Stable Matching "
   ]
  },
  {
   "cell_type": "markdown",
   "metadata": {},
   "source": [
    "## Project Description \n",
    "\n",
    "### Background \n",
    "\n",
    "The original algorithm proposed to solve the \"Stable-Matching\" problem was devised by David Gale and Lloyd Shapley in 1962. In their original paper titled \"College Admissions and the Stability of Marriage\", Gale and Shapley looked towards two of the most basic possible matching scenarios, in which they hoped to discover a systematic approach that would always find the optimal matching solution. The optimal solution, or a \"stable\" match, would consist of ensuring every element was a member of at least one pair, and no two unpaired elements would both prefer to be paired with one another instead of their partners. Gale and Shapley's first application of their algorithm was even simpler, because they were looking at two equal sized groups of people and only allowed every person to be apart of one single match, or in this case, marriage. Similarly, the most basic implementation of their algorithm on the college admissions process assumed that every college would match with just one prospective student in equal numbers. However, they also discussed how the algorithm could be adapted to match multiple students to each college, which would be the first of many such adaptions of their algorithm that can be used to find optimal solutions to more complex problems. \n",
    "\n",
    "### Gale-Shapley Stable Marriage Implementation\n",
    "\n",
    "Before trying to adapt the Gale-Shaply algorithm to a new application, we will first implement it in its basic form following the stable-marriage problem. This will provide us with the framework needed before proceeding to our more complex problem. The first requirement to the stable marriage problem is to maintain lists of preference for both the men and the women to be matched. The algorithm proceeds by iterating through all of the women (or men) until every woman (or man) has been matched. In the case of iterating through the women, we will select the next woman on the list and iterate over her preferences until a man accepts her proposal and she becomes engaged. We will do this by placing all of the woman in a priority que. If the next most prefered man on the current woman's list is 'free', then they become engaged. If the next most prefered man is already engaged, he will choose to either reject the offer or disengage with his current match to engage with this woman. He will do this based on his own maintained preference list. Again, we will continue in this way until the woman has been matched. If a man chooses to disengage with a woman, then she is added back into the priority que, indictating that she still has to be matched and her preference list will later be reiterated over again. This implementation has a both a time and space complexity of $O(n^2)$, where n is the number of woman (or men). This is because we are assuming equal number of women and men, and maintaining a preference list for each of them of size n, corressponding to the opposite gender. The time complexity upper bound arises as there could be at most n iterations over lists of length n times some constant. \n",
    "\n",
    "### Proposed Application of Stable Matching Algorithm: Uber Drivers + Riders \n",
    "\n",
    "The main piece of our project will be attempting to simulate and find the optimal solution to matching Uber drivers with Uber app users requesting rides. In order to accomplish this, we will be first adapting the implementation of the stable marriage problem in the simplest case, where there are n drivers and n passengers and only one factor determining preference for each group. A randomized weighted graph will be used to model this scenario, and our initial focus will be to optimize this scenario for n passengers each requesting a single ride. We will then try to make our simulation more realistic by adding additional variables to our model, such as time, uber carpools, and variable number of passengers and available drivers. Our main goal will be to find an optimal solution to this problem over each time step when there are drivers available, or in other words determining who the available drivers should pick up next depending on their preferences, which will become more complex as well. However, we will also be striving to implement this with the lowest possible time and space complexity. We will also focus on programming a visualization of the algorithm running for each time step to show the locations of the drivers and passengers at each time step. \n",
    "\n",
    "#### Weighted Graph Model \n",
    "Our weighted graph model will act as a network of locations and roads linking these locations. Each node will be a location where either a passenger or driver can be located at when requesting a ride or waiting to be assigned to a job, respectively. Each weighted edge will be a rode with the weight indicating the distance between the two connected locations. We will maintain the weighted graph as an adjacency list, which will lower our overall time complexity in comparision to using an adjacency matrix representation. This is due to the fact that passenger and driver preference will be dependent on shortest and longest paths throughout the weighted graph model depending on their current location and the passengers indicated destination. \n",
    "\n",
    "#### Basic Implementation \n",
    "For our initial, basic implementation, we will first produce a randomized weighted graph and place an equal number of drivers and passengers at nodes throughout the graph. The passengers' requested destinations will also be randomized and their preference lists will be computed using an adaptation of BFS to find which drivers are nearest too them to minimize their wait time. In the basic implementation, the drivers' preference lists will the computed in a similar fashion, so to minimize the time they are driving around or waiting without getting paid. We will not be taking into account the distance of the trips requested in the basic implementation. Therefore, the stable marriage algorithm should be easy to adapt to this situation once the preference lists are built, and each passenger is linked to a driver. We will keep track of the time each driver and passenger waited to be involved in a rider in order to check if this is indeed the optimal solution. \n",
    "\n",
    "#### Possible Improvements \n",
    "To make our simulation more realistic and build upon our model, we will start by taking into account variables such as distance of each trip and time. Time will be implemented here by assuming each unit of weight of an edge can be traveled in one time step. This will allow us to see which drivers are busy and which drivers are available. Also, we will make the number of passengers requesting a ride variable as well. We will also run into the problem of equal preference, where a passenger is the same distance away from two drivers and would like to ride with either one, or two passengers are located at the same location and requesting a ride. Also, we will take into account the desire time a driver wants to be active for (x number of time steps) and his preference for longer distance drives in order to make more money. We could also add in another variable such as two types of drivers, one set that prefers to stay closer to 'home', or their starting location, and another set that would just prefer the longest distance drives in order to make the most money while working. Lastly, we will attempt to integrate carpools or rideshares into our simulation where a driver can pick up more than one rider at a time, and would prefer to do so if that rider is close to them, and their destination is on their current path. When taking into account ride distance, we will also have to use algorithms such as Djikstra in order to find the shortest path to a destination, another extension of BFS. Our overall goal will be to keep the time complexity of our complete algorithm in polynomial time for each time step (multiplied by a constant number of time steps for which the algorithm is run). We believe this is possible as the BFS applications involved will all be dependent on the number of edges and nodes, and even in equal preference applications of the Gale-Shapley algorithm, $O(n^4)$ time complexity can still be achieved. "
   ]
  },
  {
   "cell_type": "code",
   "execution_count": null,
   "metadata": {},
   "outputs": [],
   "source": []
  }
 ],
 "metadata": {
  "kernelspec": {
   "display_name": "Python 3",
   "language": "python",
   "name": "python3"
  },
  "language_info": {
   "codemirror_mode": {
    "name": "ipython",
    "version": 3
   },
   "file_extension": ".py",
   "mimetype": "text/x-python",
   "name": "python",
   "nbconvert_exporter": "python",
   "pygments_lexer": "ipython3",
   "version": "3.6.4"
  }
 },
 "nbformat": 4,
 "nbformat_minor": 2
}
